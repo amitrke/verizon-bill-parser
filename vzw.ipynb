{
  "nbformat": 4,
  "nbformat_minor": 0,
  "metadata": {
    "colab": {
      "provenance": [],
      "mount_file_id": "1xt2XjEae2jwHYnyzZOC6FeNUy4Cg6cCh",
      "authorship_tag": "ABX9TyNLIDsbTKDk2EtLp7Mhro7J",
      "include_colab_link": true
    },
    "kernelspec": {
      "name": "python3",
      "display_name": "Python 3"
    },
    "language_info": {
      "name": "python"
    }
  },
  "cells": [
    {
      "cell_type": "markdown",
      "metadata": {
        "id": "view-in-github",
        "colab_type": "text"
      },
      "source": [
        "<a href=\"https://colab.research.google.com/github/amitrke/verizon-bill-parser/blob/main/vzw.ipynb\" target=\"_parent\"><img src=\"https://colab.research.google.com/assets/colab-badge.svg\" alt=\"Open In Colab\"/></a>"
      ]
    },
    {
      "cell_type": "markdown",
      "source": [
        "Install Dependencies"
      ],
      "metadata": {
        "id": "ieHho63MQjrJ"
      }
    },
    {
      "cell_type": "code",
      "execution_count": null,
      "metadata": {
        "colab": {
          "base_uri": "https://localhost:8080/",
          "height": 583
        },
        "id": "EviKSVn6Qi-J",
        "outputId": "07d42814-3bca-4c1d-e7d4-5c2b4296ceb9"
      },
      "outputs": [
        {
          "output_type": "stream",
          "name": "stdout",
          "text": [
            "Collecting git+https://github.com/amitrke/verizon-bill-parser.git\n",
            "  Cloning https://github.com/amitrke/verizon-bill-parser.git to /tmp/pip-req-build-txxzo5x5\n",
            "  Running command git clone --filter=blob:none --quiet https://github.com/amitrke/verizon-bill-parser.git /tmp/pip-req-build-txxzo5x5\n",
            "  Resolved https://github.com/amitrke/verizon-bill-parser.git to commit 25509253262ff60ba4003707f8405ad8d300e2eb\n",
            "  Preparing metadata (setup.py) ... \u001b[?25l\u001b[?25hdone\n",
            "Collecting pdfminer.six (from verizon_bill_parser==0.1)\n",
            "  Using cached pdfminer.six-20240706-py3-none-any.whl.metadata (4.1 kB)\n",
            "Collecting charset-normalizer>=2.0.0 (from pdfminer.six->verizon_bill_parser==0.1)\n",
            "  Using cached charset_normalizer-3.3.2-cp310-cp310-manylinux_2_17_x86_64.manylinux2014_x86_64.whl.metadata (33 kB)\n",
            "Collecting cryptography>=36.0.0 (from pdfminer.six->verizon_bill_parser==0.1)\n",
            "  Using cached cryptography-43.0.1-cp39-abi3-manylinux_2_28_x86_64.whl.metadata (5.4 kB)\n",
            "Collecting cffi>=1.12 (from cryptography>=36.0.0->pdfminer.six->verizon_bill_parser==0.1)\n",
            "  Using cached cffi-1.17.1-cp310-cp310-manylinux_2_17_x86_64.manylinux2014_x86_64.whl.metadata (1.5 kB)\n",
            "Collecting pycparser (from cffi>=1.12->cryptography>=36.0.0->pdfminer.six->verizon_bill_parser==0.1)\n",
            "  Using cached pycparser-2.22-py3-none-any.whl.metadata (943 bytes)\n",
            "Using cached pdfminer.six-20240706-py3-none-any.whl (5.6 MB)\n",
            "Using cached charset_normalizer-3.3.2-cp310-cp310-manylinux_2_17_x86_64.manylinux2014_x86_64.whl (142 kB)\n",
            "Using cached cryptography-43.0.1-cp39-abi3-manylinux_2_28_x86_64.whl (4.0 MB)\n",
            "Using cached cffi-1.17.1-cp310-cp310-manylinux_2_17_x86_64.manylinux2014_x86_64.whl (446 kB)\n",
            "Using cached pycparser-2.22-py3-none-any.whl (117 kB)\n",
            "Building wheels for collected packages: verizon_bill_parser\n",
            "  Building wheel for verizon_bill_parser (setup.py) ... \u001b[?25l\u001b[?25hdone\n",
            "  Created wheel for verizon_bill_parser: filename=verizon_bill_parser-0.1-py3-none-any.whl size=8446 sha256=ad40812f76b24efb972849a99832a0678ee012b16f3576ee8df4a386ad928852\n",
            "  Stored in directory: /tmp/pip-ephem-wheel-cache-iarovf2u/wheels/9e/6c/d7/57e83e6d3fda200149e6f1954b4f6cac2199cf1955e8a98c42\n",
            "Successfully built verizon_bill_parser\n",
            "Installing collected packages: pycparser, charset-normalizer, cffi, cryptography, pdfminer.six, verizon_bill_parser\n",
            "Successfully installed cffi-1.17.1 charset-normalizer-3.3.2 cryptography-43.0.1 pdfminer.six-20240706 pycparser-2.22 verizon_bill_parser-0.1\n"
          ]
        },
        {
          "output_type": "display_data",
          "data": {
            "application/vnd.colab-display-data+json": {
              "pip_warning": {
                "packages": [
                  "_cffi_backend",
                  "cffi",
                  "charset_normalizer",
                  "pdfminer",
                  "verizon_bill_parser"
                ]
              },
              "id": "2dabb17be2d7486c8bf8236455af2e16"
            }
          },
          "metadata": {}
        }
      ],
      "source": [
        "pip install --ignore-installed git+https://github.com/amitrke/verizon-bill-parser.git"
      ]
    },
    {
      "cell_type": "markdown",
      "source": [
        "Test Module"
      ],
      "metadata": {
        "id": "IL9_svEhTlE2"
      }
    },
    {
      "cell_type": "markdown",
      "source": [],
      "metadata": {
        "id": "Hdk6tgfmbzUd"
      }
    },
    {
      "cell_type": "code",
      "source": [
        "#Mount Drive\n",
        "from google.colab import drive\n",
        "drive.mount('/content/drive')\n",
        "\n",
        "\n",
        "\n"
      ],
      "metadata": {
        "colab": {
          "base_uri": "https://localhost:8080/"
        },
        "id": "gyIZzGjHbNwR",
        "outputId": "071b9280-3a0f-4db1-b770-cbd006e7caef"
      },
      "execution_count": null,
      "outputs": [
        {
          "output_type": "stream",
          "name": "stdout",
          "text": [
            "Drive already mounted at /content/drive; to attempt to forcibly remount, call drive.mount(\"/content/drive\", force_remount=True).\n"
          ]
        }
      ]
    },
    {
      "cell_type": "code",
      "source": [
        "from verizon_bill_parser import parser\n",
        "import pandas as pd\n",
        "import os\n",
        "\n",
        "folder_path = '/content/drive/MyDrive/Colas/Vow/'\n",
        "\n",
        "try:\n",
        "  parsedFileList = parser.parse_directory(folder_path)\n",
        "  for parsedFile in parsedFileList:\n",
        "    print(f\"\\n*** FILE *** ${parsedFile['fileName']} ****\\n\")\n",
        "    df = pd.DataFrame(parsedFile['amounts'])\n",
        "    print(df)\n",
        "\n",
        "except Exception as e:\n",
        "  print(e)\n"
      ],
      "metadata": {
        "colab": {
          "base_uri": "https://localhost:8080/"
        },
        "id": "T9DlCQH5Q0X_",
        "outputId": "f249a2ed-1dfa-4434-9da7-bb852f120ab6"
      },
      "execution_count": null,
      "outputs": [
        {
          "output_type": "stream",
          "name": "stdout",
          "text": [
            "\n",
            "*** FILE *** $/content/drive/MyDrive/Colas/Vow/KK Verizon Bill - Aug 2024.pdf ****\n",
            "\n",
            "                                         description   amount\n",
            "0                     Account-wide charges & credits    $0.00\n",
            "1          Mallik Apple iPhone 15 Pro (301-801-8121)   $32.49\n",
            "2  Krishnakanth Reddy Apple iPhone 15 Pro Max (31...   $27.49\n",
            "3        Deeksha Apple iPhone 12 Esim (310-849-3182)   $32.49\n",
            "4              Somesh Apple iPhone 14 (401-391-5105)   $32.49\n",
            "5  Krishnakanth Reddy Apple iPhone 14 Plus (630-8...   $50.27\n",
            "6  Sreekanth Akula Google Pixel7 Pro Nvzw-E (949-...   $32.49\n",
            "7                                             Total:  $207.72\n",
            "\n",
            "*** FILE *** $/content/drive/MyDrive/Colas/Vow/Vaishu Verizon Bill - Nov 27.pdf ****\n",
            "\n",
            "                                    description   amount\n",
            "0                Account-wide charges & credits    $0.00\n",
            "1  Krishnakanth Reddy Smartphone (858-209-6959)   $84.40\n",
            "2  Krishnakanth Reddy Smartphone (949-236-1744)   $84.40\n",
            "3  Krishnakanth Reddy Smartphone (949-241-2034)   $84.40\n",
            "4  Krishnakanth Reddy Smartphone (949-332-0071)   $84.40\n",
            "5                                        Total:  $337.60\n"
          ]
        }
      ]
    },
    {
      "cell_type": "code",
      "source": [],
      "metadata": {
        "id": "0MFk9XjRb4BG"
      },
      "execution_count": null,
      "outputs": []
    }
  ]
}